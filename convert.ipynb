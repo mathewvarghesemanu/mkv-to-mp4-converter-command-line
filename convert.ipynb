{
 "cells": [
  {
   "cell_type": "code",
   "execution_count": 71,
   "metadata": {},
   "outputs": [
    {
     "name": "stdout",
     "output_type": "stream",
     "text": [
      "['2021-07-06 15-58-39~1.mp4', 'convert.ipynb']\n",
      "[]\n"
     ]
    }
   ],
   "source": [
    "import os\n",
    "from os import listdir\n",
    "mypath=os.getcwd()\n",
    "from os.path import isfile, join\n",
    "count=0\n",
    "onlyfiles = [f for f in listdir(mypath) if isfile(join(mypath, f))]\n",
    "videofiles=[]\n",
    "\n",
    "print([item for item in onlyfiles])\n",
    "\n",
    "for item in onlyfiles:\n",
    "    if item[-4:] == \".mkv\":\n",
    "        videofiles.append(item)\n",
    "        \n",
    "print([item for item in videofiles])\n",
    "\n",
    "for item in videofiles:\n",
    "    os.system(\"ffmpeg -i {} -c:v libx264 -c:a aac {}\".format('\"'+item+'\"','\"'+item.replace(\"mkv\",\"mp4\")+'\"'))\n",
    "# # print(\"ffmpeg -i {} -c:v libx264 -c:a aac {}\".format('\"'+item+'\"','\"'+item.replace(\"mkv\",\"mp4\")+'\"'))\n",
    "    os.remove(item)    \n",
    "    \n",
    "#     count+=1\n",
    "# #     os.system(\"..\\main.py --i %s -o %s\"%(item,item+\"count\"))\n",
    "#     # os.system(\"python main.py -i \\\"Inputs/%s\\\" -o \\\"outputs\\%s\\\" -s true\"%(item,item+str(count)))\n",
    "#     os.system(\"python main.py -i \\\"Inputs/%s\\\" -s false\"%(item))\n",
    "#     print(\"processing %s\"%item)\n",
    "    "
   ]
  },
  {
   "cell_type": "code",
   "execution_count": 52,
   "metadata": {},
   "outputs": [
    {
     "ename": "NameError",
     "evalue": "name '__file__' is not defined",
     "output_type": "error",
     "traceback": [
      "\u001b[1;31m---------------------------------------------------------------------------\u001b[0m",
      "\u001b[1;31mNameError\u001b[0m                                 Traceback (most recent call last)",
      "\u001b[1;32m<ipython-input-52-880eb789ae8a>\u001b[0m in \u001b[0;36m<module>\u001b[1;34m\u001b[0m\n\u001b[1;32m----> 1\u001b[1;33m \u001b[0mos\u001b[0m\u001b[1;33m.\u001b[0m\u001b[0mpath\u001b[0m\u001b[1;33m.\u001b[0m\u001b[0mdirname\u001b[0m\u001b[1;33m(\u001b[0m\u001b[0mos\u001b[0m\u001b[1;33m.\u001b[0m\u001b[0mpath\u001b[0m\u001b[1;33m.\u001b[0m\u001b[0mabspath\u001b[0m\u001b[1;33m(\u001b[0m\u001b[0m__file__\u001b[0m\u001b[1;33m)\u001b[0m\u001b[1;33m)\u001b[0m\u001b[1;33m\u001b[0m\u001b[1;33m\u001b[0m\u001b[0m\n\u001b[0m",
      "\u001b[1;31mNameError\u001b[0m: name '__file__' is not defined"
     ]
    }
   ],
   "source": [
    "\n"
   ]
  }
 ],
 "metadata": {
  "kernelspec": {
   "display_name": "Python 3",
   "language": "python",
   "name": "python3"
  },
  "language_info": {
   "codemirror_mode": {
    "name": "ipython",
    "version": 3
   },
   "file_extension": ".py",
   "mimetype": "text/x-python",
   "name": "python",
   "nbconvert_exporter": "python",
   "pygments_lexer": "ipython3",
   "version": "3.8.8"
  }
 },
 "nbformat": 4,
 "nbformat_minor": 4
}
